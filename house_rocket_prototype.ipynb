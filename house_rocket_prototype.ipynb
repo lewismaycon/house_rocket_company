{
 "cells": [
  {
   "cell_type": "markdown",
   "id": "067cc8c2",
   "metadata": {},
   "source": [
    "# 0.1 Import Libraries"
   ]
  },
  {
   "cell_type": "code",
   "execution_count": 1,
   "id": "d8369397",
   "metadata": {},
   "outputs": [],
   "source": [
    "import pandas as pd\n",
    "import numpy as np\n",
    "import plotly.express as px\n",
    "import seaborn as sns\n",
    "import plotly.express as px\n",
    "import sweetviz as sv\n",
    "from matplotlib import pyplot as plt\n",
    "from IPython.display import HTML"
   ]
  },
  {
   "cell_type": "markdown",
   "id": "23b586c4",
   "metadata": {},
   "source": [
    "# 0.2 Helper Functions"
   ]
  },
  {
   "cell_type": "code",
   "execution_count": 2,
   "id": "5f3470c6",
   "metadata": {},
   "outputs": [
    {
     "name": "stdout",
     "output_type": "stream",
     "text": [
      "%pylab is deprecated, use %matplotlib inline and import the required libraries.\n",
      "Populating the interactive namespace from numpy and matplotlib\n"
     ]
    },
    {
     "data": {
      "text/html": [
       "<style>.container { width:97% !important; }</style>"
      ],
      "text/plain": [
       "<IPython.core.display.HTML object>"
      ]
     },
     "metadata": {},
     "output_type": "display_data"
    }
   ],
   "source": [
    "def jupyter_settings():\n",
    "    %matplotlib inline\n",
    "    %pylab inline\n",
    "    plt.style.use( 'bmh' )\n",
    "    plt.rcParams['figure.figsize'] = [18, 8]\n",
    "    plt.rcParams['font.size'] = 24\n",
    "    display( HTML( '<style>.container { width:97% !important; }</style>') )\n",
    "    pd.options.display.max_columns = 30\n",
    "    pd.options.display.max_rows = 30\n",
    "    pd.options.display.float_format = lambda x: f'{x:.2f}'\n",
    "    pd.set_option( 'display.expand_frame_repr', False )\n",
    "    sns.set_theme(rc={'figure.figsize': (15, 6)})\n",
    "jupyter_settings()\n",
    "\n",
    "def tendencia_central(num_attributes):\n",
    "    # Tendencia central - mean, ]median\n",
    "    ct1 = pd.DataFrame( num_attributes.apply( np.mean ) ).T\n",
    "    ct2 = pd.DataFrame( num_attributes.apply( np.median ) ).T\n",
    "\n",
    "    # Dispersão - std, min, max, range, knew, kurtosis\n",
    "    d1 = pd.DataFrame( num_attributes.apply( np.std ) ).T\n",
    "    d2 = pd.DataFrame( num_attributes.apply( np.min ) ).T\n",
    "    d3 = pd.DataFrame( num_attributes.apply( np.max ) ).T\n",
    "    d4 = pd.DataFrame( num_attributes.apply( lambda x: x.max() - x.min() ) ).T\n",
    "    d5 = pd.DataFrame( num_attributes.apply( lambda x: x.skew() ) ).T\n",
    "    d6 = pd.DataFrame( num_attributes.apply( lambda x: x.kurtosis() ) ).T\n",
    "\n",
    "    #Concatenar\n",
    "    m = pd.concat( [d2, d3, d4, ct1, ct2, d1, d5, d6] ).T.reset_index()\n",
    "    m.columns =['attributes', 'min', 'max', 'range', 'mean', 'median', 'std', 'skew', 'kurtosis']\n",
    "\n",
    "    return m"
   ]
  },
  {
   "cell_type": "markdown",
   "id": "7d240461",
   "metadata": {},
   "source": [
    "# 0.3 Loading Data"
   ]
  },
  {
   "cell_type": "code",
   "execution_count": 3,
   "id": "563cc823",
   "metadata": {},
   "outputs": [],
   "source": [
    "data = pd.read_csv( 'datasets/kc_house_data.csv' )"
   ]
  },
  {
   "cell_type": "markdown",
   "id": "55755d60",
   "metadata": {},
   "source": [
    "# 1.1 Description Data"
   ]
  },
  {
   "cell_type": "code",
   "execution_count": 4,
   "id": "b9ca36eb",
   "metadata": {},
   "outputs": [
    {
     "name": "stdout",
     "output_type": "stream",
     "text": [
      "Número de Linhas: 21613\n",
      "Número de Colunas: 21\n"
     ]
    }
   ],
   "source": [
    "print('Número de Linhas: {}'.format(data.shape[0]))\n",
    "print('Número de Colunas: {}'.format(data.shape[1]))"
   ]
  },
  {
   "cell_type": "code",
   "execution_count": 5,
   "id": "d292c09e",
   "metadata": {},
   "outputs": [
    {
     "data": {
      "text/plain": [
       "id                 int64\n",
       "date              object\n",
       "price            float64\n",
       "bedrooms           int64\n",
       "bathrooms        float64\n",
       "sqft_living        int64\n",
       "sqft_lot           int64\n",
       "floors           float64\n",
       "waterfront         int64\n",
       "view               int64\n",
       "condition          int64\n",
       "grade              int64\n",
       "sqft_above         int64\n",
       "sqft_basement      int64\n",
       "yr_built           int64\n",
       "yr_renovated       int64\n",
       "zipcode            int64\n",
       "lat              float64\n",
       "long             float64\n",
       "sqft_living15      int64\n",
       "sqft_lot15         int64\n",
       "dtype: object"
      ]
     },
     "execution_count": 5,
     "metadata": {},
     "output_type": "execute_result"
    }
   ],
   "source": [
    "data.dtypes"
   ]
  },
  {
   "cell_type": "code",
   "execution_count": 6,
   "id": "aaec0e7e",
   "metadata": {},
   "outputs": [
    {
     "data": {
      "text/plain": [
       "id               0\n",
       "date             0\n",
       "price            0\n",
       "bedrooms         0\n",
       "bathrooms        0\n",
       "sqft_living      0\n",
       "sqft_lot         0\n",
       "floors           0\n",
       "waterfront       0\n",
       "view             0\n",
       "condition        0\n",
       "grade            0\n",
       "sqft_above       0\n",
       "sqft_basement    0\n",
       "yr_built         0\n",
       "yr_renovated     0\n",
       "zipcode          0\n",
       "lat              0\n",
       "long             0\n",
       "sqft_living15    0\n",
       "sqft_lot15       0\n",
       "dtype: int64"
      ]
     },
     "execution_count": 6,
     "metadata": {},
     "output_type": "execute_result"
    }
   ],
   "source": [
    "# Check NA\n",
    "data.isna().sum()"
   ]
  },
  {
   "cell_type": "markdown",
   "id": "31425993",
   "metadata": {},
   "source": [
    "# 1.2 Descriptive Statistics"
   ]
  },
  {
   "cell_type": "code",
   "execution_count": 7,
   "id": "1cdab9ef",
   "metadata": {},
   "outputs": [
    {
     "data": {
      "text/html": [
       "<div>\n",
       "<style scoped>\n",
       "    .dataframe tbody tr th:only-of-type {\n",
       "        vertical-align: middle;\n",
       "    }\n",
       "\n",
       "    .dataframe tbody tr th {\n",
       "        vertical-align: top;\n",
       "    }\n",
       "\n",
       "    .dataframe thead th {\n",
       "        text-align: right;\n",
       "    }\n",
       "</style>\n",
       "<table border=\"1\" class=\"dataframe\">\n",
       "  <thead>\n",
       "    <tr style=\"text-align: right;\">\n",
       "      <th></th>\n",
       "      <th>count</th>\n",
       "      <th>mean</th>\n",
       "      <th>std</th>\n",
       "      <th>min</th>\n",
       "      <th>25%</th>\n",
       "      <th>50%</th>\n",
       "      <th>75%</th>\n",
       "      <th>max</th>\n",
       "    </tr>\n",
       "  </thead>\n",
       "  <tbody>\n",
       "    <tr>\n",
       "      <th>id</th>\n",
       "      <td>21613.00</td>\n",
       "      <td>4580301520.86</td>\n",
       "      <td>2876565571.31</td>\n",
       "      <td>1000102.00</td>\n",
       "      <td>2123049194.00</td>\n",
       "      <td>3904930410.00</td>\n",
       "      <td>7308900445.00</td>\n",
       "      <td>9900000190.00</td>\n",
       "    </tr>\n",
       "    <tr>\n",
       "      <th>price</th>\n",
       "      <td>21613.00</td>\n",
       "      <td>540088.14</td>\n",
       "      <td>367127.20</td>\n",
       "      <td>75000.00</td>\n",
       "      <td>321950.00</td>\n",
       "      <td>450000.00</td>\n",
       "      <td>645000.00</td>\n",
       "      <td>7700000.00</td>\n",
       "    </tr>\n",
       "    <tr>\n",
       "      <th>bedrooms</th>\n",
       "      <td>21613.00</td>\n",
       "      <td>3.37</td>\n",
       "      <td>0.93</td>\n",
       "      <td>0.00</td>\n",
       "      <td>3.00</td>\n",
       "      <td>3.00</td>\n",
       "      <td>4.00</td>\n",
       "      <td>33.00</td>\n",
       "    </tr>\n",
       "    <tr>\n",
       "      <th>bathrooms</th>\n",
       "      <td>21613.00</td>\n",
       "      <td>2.11</td>\n",
       "      <td>0.77</td>\n",
       "      <td>0.00</td>\n",
       "      <td>1.75</td>\n",
       "      <td>2.25</td>\n",
       "      <td>2.50</td>\n",
       "      <td>8.00</td>\n",
       "    </tr>\n",
       "    <tr>\n",
       "      <th>sqft_living</th>\n",
       "      <td>21613.00</td>\n",
       "      <td>2079.90</td>\n",
       "      <td>918.44</td>\n",
       "      <td>290.00</td>\n",
       "      <td>1427.00</td>\n",
       "      <td>1910.00</td>\n",
       "      <td>2550.00</td>\n",
       "      <td>13540.00</td>\n",
       "    </tr>\n",
       "    <tr>\n",
       "      <th>sqft_lot</th>\n",
       "      <td>21613.00</td>\n",
       "      <td>15106.97</td>\n",
       "      <td>41420.51</td>\n",
       "      <td>520.00</td>\n",
       "      <td>5040.00</td>\n",
       "      <td>7618.00</td>\n",
       "      <td>10688.00</td>\n",
       "      <td>1651359.00</td>\n",
       "    </tr>\n",
       "    <tr>\n",
       "      <th>floors</th>\n",
       "      <td>21613.00</td>\n",
       "      <td>1.49</td>\n",
       "      <td>0.54</td>\n",
       "      <td>1.00</td>\n",
       "      <td>1.00</td>\n",
       "      <td>1.50</td>\n",
       "      <td>2.00</td>\n",
       "      <td>3.50</td>\n",
       "    </tr>\n",
       "    <tr>\n",
       "      <th>waterfront</th>\n",
       "      <td>21613.00</td>\n",
       "      <td>0.01</td>\n",
       "      <td>0.09</td>\n",
       "      <td>0.00</td>\n",
       "      <td>0.00</td>\n",
       "      <td>0.00</td>\n",
       "      <td>0.00</td>\n",
       "      <td>1.00</td>\n",
       "    </tr>\n",
       "    <tr>\n",
       "      <th>view</th>\n",
       "      <td>21613.00</td>\n",
       "      <td>0.23</td>\n",
       "      <td>0.77</td>\n",
       "      <td>0.00</td>\n",
       "      <td>0.00</td>\n",
       "      <td>0.00</td>\n",
       "      <td>0.00</td>\n",
       "      <td>4.00</td>\n",
       "    </tr>\n",
       "    <tr>\n",
       "      <th>condition</th>\n",
       "      <td>21613.00</td>\n",
       "      <td>3.41</td>\n",
       "      <td>0.65</td>\n",
       "      <td>1.00</td>\n",
       "      <td>3.00</td>\n",
       "      <td>3.00</td>\n",
       "      <td>4.00</td>\n",
       "      <td>5.00</td>\n",
       "    </tr>\n",
       "    <tr>\n",
       "      <th>grade</th>\n",
       "      <td>21613.00</td>\n",
       "      <td>7.66</td>\n",
       "      <td>1.18</td>\n",
       "      <td>1.00</td>\n",
       "      <td>7.00</td>\n",
       "      <td>7.00</td>\n",
       "      <td>8.00</td>\n",
       "      <td>13.00</td>\n",
       "    </tr>\n",
       "    <tr>\n",
       "      <th>sqft_above</th>\n",
       "      <td>21613.00</td>\n",
       "      <td>1788.39</td>\n",
       "      <td>828.09</td>\n",
       "      <td>290.00</td>\n",
       "      <td>1190.00</td>\n",
       "      <td>1560.00</td>\n",
       "      <td>2210.00</td>\n",
       "      <td>9410.00</td>\n",
       "    </tr>\n",
       "    <tr>\n",
       "      <th>sqft_basement</th>\n",
       "      <td>21613.00</td>\n",
       "      <td>291.51</td>\n",
       "      <td>442.58</td>\n",
       "      <td>0.00</td>\n",
       "      <td>0.00</td>\n",
       "      <td>0.00</td>\n",
       "      <td>560.00</td>\n",
       "      <td>4820.00</td>\n",
       "    </tr>\n",
       "    <tr>\n",
       "      <th>yr_built</th>\n",
       "      <td>21613.00</td>\n",
       "      <td>1971.01</td>\n",
       "      <td>29.37</td>\n",
       "      <td>1900.00</td>\n",
       "      <td>1951.00</td>\n",
       "      <td>1975.00</td>\n",
       "      <td>1997.00</td>\n",
       "      <td>2015.00</td>\n",
       "    </tr>\n",
       "    <tr>\n",
       "      <th>yr_renovated</th>\n",
       "      <td>21613.00</td>\n",
       "      <td>84.40</td>\n",
       "      <td>401.68</td>\n",
       "      <td>0.00</td>\n",
       "      <td>0.00</td>\n",
       "      <td>0.00</td>\n",
       "      <td>0.00</td>\n",
       "      <td>2015.00</td>\n",
       "    </tr>\n",
       "    <tr>\n",
       "      <th>zipcode</th>\n",
       "      <td>21613.00</td>\n",
       "      <td>98077.94</td>\n",
       "      <td>53.51</td>\n",
       "      <td>98001.00</td>\n",
       "      <td>98033.00</td>\n",
       "      <td>98065.00</td>\n",
       "      <td>98118.00</td>\n",
       "      <td>98199.00</td>\n",
       "    </tr>\n",
       "    <tr>\n",
       "      <th>lat</th>\n",
       "      <td>21613.00</td>\n",
       "      <td>47.56</td>\n",
       "      <td>0.14</td>\n",
       "      <td>47.16</td>\n",
       "      <td>47.47</td>\n",
       "      <td>47.57</td>\n",
       "      <td>47.68</td>\n",
       "      <td>47.78</td>\n",
       "    </tr>\n",
       "    <tr>\n",
       "      <th>long</th>\n",
       "      <td>21613.00</td>\n",
       "      <td>-122.21</td>\n",
       "      <td>0.14</td>\n",
       "      <td>-122.52</td>\n",
       "      <td>-122.33</td>\n",
       "      <td>-122.23</td>\n",
       "      <td>-122.12</td>\n",
       "      <td>-121.31</td>\n",
       "    </tr>\n",
       "    <tr>\n",
       "      <th>sqft_living15</th>\n",
       "      <td>21613.00</td>\n",
       "      <td>1986.55</td>\n",
       "      <td>685.39</td>\n",
       "      <td>399.00</td>\n",
       "      <td>1490.00</td>\n",
       "      <td>1840.00</td>\n",
       "      <td>2360.00</td>\n",
       "      <td>6210.00</td>\n",
       "    </tr>\n",
       "    <tr>\n",
       "      <th>sqft_lot15</th>\n",
       "      <td>21613.00</td>\n",
       "      <td>12768.46</td>\n",
       "      <td>27304.18</td>\n",
       "      <td>651.00</td>\n",
       "      <td>5100.00</td>\n",
       "      <td>7620.00</td>\n",
       "      <td>10083.00</td>\n",
       "      <td>871200.00</td>\n",
       "    </tr>\n",
       "  </tbody>\n",
       "</table>\n",
       "</div>"
      ],
      "text/plain": [
       "                 count          mean           std        min           25%           50%           75%           max\n",
       "id            21613.00 4580301520.86 2876565571.31 1000102.00 2123049194.00 3904930410.00 7308900445.00 9900000190.00\n",
       "price         21613.00     540088.14     367127.20   75000.00     321950.00     450000.00     645000.00    7700000.00\n",
       "bedrooms      21613.00          3.37          0.93       0.00          3.00          3.00          4.00         33.00\n",
       "bathrooms     21613.00          2.11          0.77       0.00          1.75          2.25          2.50          8.00\n",
       "sqft_living   21613.00       2079.90        918.44     290.00       1427.00       1910.00       2550.00      13540.00\n",
       "sqft_lot      21613.00      15106.97      41420.51     520.00       5040.00       7618.00      10688.00    1651359.00\n",
       "floors        21613.00          1.49          0.54       1.00          1.00          1.50          2.00          3.50\n",
       "waterfront    21613.00          0.01          0.09       0.00          0.00          0.00          0.00          1.00\n",
       "view          21613.00          0.23          0.77       0.00          0.00          0.00          0.00          4.00\n",
       "condition     21613.00          3.41          0.65       1.00          3.00          3.00          4.00          5.00\n",
       "grade         21613.00          7.66          1.18       1.00          7.00          7.00          8.00         13.00\n",
       "sqft_above    21613.00       1788.39        828.09     290.00       1190.00       1560.00       2210.00       9410.00\n",
       "sqft_basement 21613.00        291.51        442.58       0.00          0.00          0.00        560.00       4820.00\n",
       "yr_built      21613.00       1971.01         29.37    1900.00       1951.00       1975.00       1997.00       2015.00\n",
       "yr_renovated  21613.00         84.40        401.68       0.00          0.00          0.00          0.00       2015.00\n",
       "zipcode       21613.00      98077.94         53.51   98001.00      98033.00      98065.00      98118.00      98199.00\n",
       "lat           21613.00         47.56          0.14      47.16         47.47         47.57         47.68         47.78\n",
       "long          21613.00       -122.21          0.14    -122.52       -122.33       -122.23       -122.12       -121.31\n",
       "sqft_living15 21613.00       1986.55        685.39     399.00       1490.00       1840.00       2360.00       6210.00\n",
       "sqft_lot15    21613.00      12768.46      27304.18     651.00       5100.00       7620.00      10083.00     871200.00"
      ]
     },
     "execution_count": 7,
     "metadata": {},
     "output_type": "execute_result"
    }
   ],
   "source": [
    "# Numeric Attributes\n",
    "num_attr = data.select_dtypes(include=['int64', 'int32', 'float64'])\n",
    "num_attr.describe().T"
   ]
  },
  {
   "cell_type": "code",
   "execution_count": 8,
   "id": "e7382c66",
   "metadata": {},
   "outputs": [
    {
     "data": {
      "text/html": [
       "<div>\n",
       "<style scoped>\n",
       "    .dataframe tbody tr th:only-of-type {\n",
       "        vertical-align: middle;\n",
       "    }\n",
       "\n",
       "    .dataframe tbody tr th {\n",
       "        vertical-align: top;\n",
       "    }\n",
       "\n",
       "    .dataframe thead th {\n",
       "        text-align: right;\n",
       "    }\n",
       "</style>\n",
       "<table border=\"1\" class=\"dataframe\">\n",
       "  <thead>\n",
       "    <tr style=\"text-align: right;\">\n",
       "      <th></th>\n",
       "      <th>attributes</th>\n",
       "      <th>min</th>\n",
       "      <th>max</th>\n",
       "      <th>range</th>\n",
       "      <th>mean</th>\n",
       "      <th>median</th>\n",
       "      <th>std</th>\n",
       "      <th>skew</th>\n",
       "      <th>kurtosis</th>\n",
       "    </tr>\n",
       "  </thead>\n",
       "  <tbody>\n",
       "    <tr>\n",
       "      <th>0</th>\n",
       "      <td>id</td>\n",
       "      <td>1000102.00</td>\n",
       "      <td>9900000190.00</td>\n",
       "      <td>9899000088.00</td>\n",
       "      <td>4580301520.86</td>\n",
       "      <td>3904930410.00</td>\n",
       "      <td>2876499023.43</td>\n",
       "      <td>0.24</td>\n",
       "      <td>-1.26</td>\n",
       "    </tr>\n",
       "    <tr>\n",
       "      <th>1</th>\n",
       "      <td>price</td>\n",
       "      <td>75000.00</td>\n",
       "      <td>7700000.00</td>\n",
       "      <td>7625000.00</td>\n",
       "      <td>540088.14</td>\n",
       "      <td>450000.00</td>\n",
       "      <td>367118.70</td>\n",
       "      <td>4.02</td>\n",
       "      <td>34.59</td>\n",
       "    </tr>\n",
       "    <tr>\n",
       "      <th>2</th>\n",
       "      <td>bedrooms</td>\n",
       "      <td>0.00</td>\n",
       "      <td>33.00</td>\n",
       "      <td>33.00</td>\n",
       "      <td>3.37</td>\n",
       "      <td>3.00</td>\n",
       "      <td>0.93</td>\n",
       "      <td>1.97</td>\n",
       "      <td>49.06</td>\n",
       "    </tr>\n",
       "    <tr>\n",
       "      <th>3</th>\n",
       "      <td>bathrooms</td>\n",
       "      <td>0.00</td>\n",
       "      <td>8.00</td>\n",
       "      <td>8.00</td>\n",
       "      <td>2.11</td>\n",
       "      <td>2.25</td>\n",
       "      <td>0.77</td>\n",
       "      <td>0.51</td>\n",
       "      <td>1.28</td>\n",
       "    </tr>\n",
       "    <tr>\n",
       "      <th>4</th>\n",
       "      <td>sqft_living</td>\n",
       "      <td>290.00</td>\n",
       "      <td>13540.00</td>\n",
       "      <td>13250.00</td>\n",
       "      <td>2079.90</td>\n",
       "      <td>1910.00</td>\n",
       "      <td>918.42</td>\n",
       "      <td>1.47</td>\n",
       "      <td>5.24</td>\n",
       "    </tr>\n",
       "    <tr>\n",
       "      <th>5</th>\n",
       "      <td>sqft_lot</td>\n",
       "      <td>520.00</td>\n",
       "      <td>1651359.00</td>\n",
       "      <td>1650839.00</td>\n",
       "      <td>15106.97</td>\n",
       "      <td>7618.00</td>\n",
       "      <td>41419.55</td>\n",
       "      <td>13.06</td>\n",
       "      <td>285.08</td>\n",
       "    </tr>\n",
       "    <tr>\n",
       "      <th>6</th>\n",
       "      <td>floors</td>\n",
       "      <td>1.00</td>\n",
       "      <td>3.50</td>\n",
       "      <td>2.50</td>\n",
       "      <td>1.49</td>\n",
       "      <td>1.50</td>\n",
       "      <td>0.54</td>\n",
       "      <td>0.62</td>\n",
       "      <td>-0.48</td>\n",
       "    </tr>\n",
       "    <tr>\n",
       "      <th>7</th>\n",
       "      <td>waterfront</td>\n",
       "      <td>0.00</td>\n",
       "      <td>1.00</td>\n",
       "      <td>1.00</td>\n",
       "      <td>0.01</td>\n",
       "      <td>0.00</td>\n",
       "      <td>0.09</td>\n",
       "      <td>11.39</td>\n",
       "      <td>127.63</td>\n",
       "    </tr>\n",
       "    <tr>\n",
       "      <th>8</th>\n",
       "      <td>view</td>\n",
       "      <td>0.00</td>\n",
       "      <td>4.00</td>\n",
       "      <td>4.00</td>\n",
       "      <td>0.23</td>\n",
       "      <td>0.00</td>\n",
       "      <td>0.77</td>\n",
       "      <td>3.40</td>\n",
       "      <td>10.89</td>\n",
       "    </tr>\n",
       "    <tr>\n",
       "      <th>9</th>\n",
       "      <td>condition</td>\n",
       "      <td>1.00</td>\n",
       "      <td>5.00</td>\n",
       "      <td>4.00</td>\n",
       "      <td>3.41</td>\n",
       "      <td>3.00</td>\n",
       "      <td>0.65</td>\n",
       "      <td>1.03</td>\n",
       "      <td>0.53</td>\n",
       "    </tr>\n",
       "    <tr>\n",
       "      <th>10</th>\n",
       "      <td>grade</td>\n",
       "      <td>1.00</td>\n",
       "      <td>13.00</td>\n",
       "      <td>12.00</td>\n",
       "      <td>7.66</td>\n",
       "      <td>7.00</td>\n",
       "      <td>1.18</td>\n",
       "      <td>0.77</td>\n",
       "      <td>1.19</td>\n",
       "    </tr>\n",
       "    <tr>\n",
       "      <th>11</th>\n",
       "      <td>sqft_above</td>\n",
       "      <td>290.00</td>\n",
       "      <td>9410.00</td>\n",
       "      <td>9120.00</td>\n",
       "      <td>1788.39</td>\n",
       "      <td>1560.00</td>\n",
       "      <td>828.07</td>\n",
       "      <td>1.45</td>\n",
       "      <td>3.40</td>\n",
       "    </tr>\n",
       "    <tr>\n",
       "      <th>12</th>\n",
       "      <td>sqft_basement</td>\n",
       "      <td>0.00</td>\n",
       "      <td>4820.00</td>\n",
       "      <td>4820.00</td>\n",
       "      <td>291.51</td>\n",
       "      <td>0.00</td>\n",
       "      <td>442.56</td>\n",
       "      <td>1.58</td>\n",
       "      <td>2.72</td>\n",
       "    </tr>\n",
       "    <tr>\n",
       "      <th>13</th>\n",
       "      <td>yr_built</td>\n",
       "      <td>1900.00</td>\n",
       "      <td>2015.00</td>\n",
       "      <td>115.00</td>\n",
       "      <td>1971.01</td>\n",
       "      <td>1975.00</td>\n",
       "      <td>29.37</td>\n",
       "      <td>-0.47</td>\n",
       "      <td>-0.66</td>\n",
       "    </tr>\n",
       "    <tr>\n",
       "      <th>14</th>\n",
       "      <td>yr_renovated</td>\n",
       "      <td>0.00</td>\n",
       "      <td>2015.00</td>\n",
       "      <td>2015.00</td>\n",
       "      <td>84.40</td>\n",
       "      <td>0.00</td>\n",
       "      <td>401.67</td>\n",
       "      <td>4.55</td>\n",
       "      <td>18.70</td>\n",
       "    </tr>\n",
       "    <tr>\n",
       "      <th>15</th>\n",
       "      <td>zipcode</td>\n",
       "      <td>98001.00</td>\n",
       "      <td>98199.00</td>\n",
       "      <td>198.00</td>\n",
       "      <td>98077.94</td>\n",
       "      <td>98065.00</td>\n",
       "      <td>53.50</td>\n",
       "      <td>0.41</td>\n",
       "      <td>-0.85</td>\n",
       "    </tr>\n",
       "    <tr>\n",
       "      <th>16</th>\n",
       "      <td>lat</td>\n",
       "      <td>47.16</td>\n",
       "      <td>47.78</td>\n",
       "      <td>0.62</td>\n",
       "      <td>47.56</td>\n",
       "      <td>47.57</td>\n",
       "      <td>0.14</td>\n",
       "      <td>-0.49</td>\n",
       "      <td>-0.68</td>\n",
       "    </tr>\n",
       "    <tr>\n",
       "      <th>17</th>\n",
       "      <td>long</td>\n",
       "      <td>-122.52</td>\n",
       "      <td>-121.31</td>\n",
       "      <td>1.20</td>\n",
       "      <td>-122.21</td>\n",
       "      <td>-122.23</td>\n",
       "      <td>0.14</td>\n",
       "      <td>0.89</td>\n",
       "      <td>1.05</td>\n",
       "    </tr>\n",
       "    <tr>\n",
       "      <th>18</th>\n",
       "      <td>sqft_living15</td>\n",
       "      <td>399.00</td>\n",
       "      <td>6210.00</td>\n",
       "      <td>5811.00</td>\n",
       "      <td>1986.55</td>\n",
       "      <td>1840.00</td>\n",
       "      <td>685.38</td>\n",
       "      <td>1.11</td>\n",
       "      <td>1.60</td>\n",
       "    </tr>\n",
       "    <tr>\n",
       "      <th>19</th>\n",
       "      <td>sqft_lot15</td>\n",
       "      <td>651.00</td>\n",
       "      <td>871200.00</td>\n",
       "      <td>870549.00</td>\n",
       "      <td>12768.46</td>\n",
       "      <td>7620.00</td>\n",
       "      <td>27303.55</td>\n",
       "      <td>9.51</td>\n",
       "      <td>150.76</td>\n",
       "    </tr>\n",
       "  </tbody>\n",
       "</table>\n",
       "</div>"
      ],
      "text/plain": [
       "       attributes        min           max         range          mean        median           std  skew  kurtosis\n",
       "0              id 1000102.00 9900000190.00 9899000088.00 4580301520.86 3904930410.00 2876499023.43  0.24     -1.26\n",
       "1           price   75000.00    7700000.00    7625000.00     540088.14     450000.00     367118.70  4.02     34.59\n",
       "2        bedrooms       0.00         33.00         33.00          3.37          3.00          0.93  1.97     49.06\n",
       "3       bathrooms       0.00          8.00          8.00          2.11          2.25          0.77  0.51      1.28\n",
       "4     sqft_living     290.00      13540.00      13250.00       2079.90       1910.00        918.42  1.47      5.24\n",
       "5        sqft_lot     520.00    1651359.00    1650839.00      15106.97       7618.00      41419.55 13.06    285.08\n",
       "6          floors       1.00          3.50          2.50          1.49          1.50          0.54  0.62     -0.48\n",
       "7      waterfront       0.00          1.00          1.00          0.01          0.00          0.09 11.39    127.63\n",
       "8            view       0.00          4.00          4.00          0.23          0.00          0.77  3.40     10.89\n",
       "9       condition       1.00          5.00          4.00          3.41          3.00          0.65  1.03      0.53\n",
       "10          grade       1.00         13.00         12.00          7.66          7.00          1.18  0.77      1.19\n",
       "11     sqft_above     290.00       9410.00       9120.00       1788.39       1560.00        828.07  1.45      3.40\n",
       "12  sqft_basement       0.00       4820.00       4820.00        291.51          0.00        442.56  1.58      2.72\n",
       "13       yr_built    1900.00       2015.00        115.00       1971.01       1975.00         29.37 -0.47     -0.66\n",
       "14   yr_renovated       0.00       2015.00       2015.00         84.40          0.00        401.67  4.55     18.70\n",
       "15        zipcode   98001.00      98199.00        198.00      98077.94      98065.00         53.50  0.41     -0.85\n",
       "16            lat      47.16         47.78          0.62         47.56         47.57          0.14 -0.49     -0.68\n",
       "17           long    -122.52       -121.31          1.20       -122.21       -122.23          0.14  0.89      1.05\n",
       "18  sqft_living15     399.00       6210.00       5811.00       1986.55       1840.00        685.38  1.11      1.60\n",
       "19     sqft_lot15     651.00     871200.00     870549.00      12768.46       7620.00      27303.55  9.51    150.76"
      ]
     },
     "execution_count": 8,
     "metadata": {},
     "output_type": "execute_result"
    }
   ],
   "source": [
    "tendencia_central(num_attr)"
   ]
  },
  {
   "cell_type": "code",
   "execution_count": 9,
   "id": "212ffef0",
   "metadata": {},
   "outputs": [
    {
     "data": {
      "text/plain": [
       "date    372\n",
       "dtype: int64"
      ]
     },
     "execution_count": 9,
     "metadata": {},
     "output_type": "execute_result"
    }
   ],
   "source": [
    "# Categoric Attributes\n",
    "\n",
    "# Different items by attribute\n",
    "cat_attr = data.select_dtypes(exclude=['int64', 'int32', 'float64'])\n",
    "cat_attr.nunique()"
   ]
  },
  {
   "cell_type": "markdown",
   "id": "277d514a",
   "metadata": {},
   "source": [
    "# 2.0 Feature Engineering"
   ]
  },
  {
   "cell_type": "code",
   "execution_count": 10,
   "id": "8e0f56c2",
   "metadata": {},
   "outputs": [],
   "source": [
    "# Date\n",
    "data['date'] = pd.to_datetime( data['date'] ).dt.strftime( '%Y-%m-%d' )"
   ]
  },
  {
   "cell_type": "markdown",
   "id": "2ac796df",
   "metadata": {},
   "source": [
    "# 3.0 Exploration Data Analysis"
   ]
  },
  {
   "cell_type": "markdown",
   "id": "6b2bb0e3",
   "metadata": {},
   "source": [
    "# 3.1 Hypotheses"
   ]
  },
  {
   "cell_type": "code",
   "execution_count": 10,
   "id": "a94fe34b",
   "metadata": {},
   "outputs": [
    {
     "data": {
      "image/png": "[encoded data removed]",
      "text/plain": [
       "<Figure size 1080x432 with 1 Axes>"
      ]
     },
     "metadata": {},
     "output_type": "display_data"
    }
   ],
   "source": [
    "# H1: Os imóveis com vista para água são cerca de 212% mais caros, na média.\n",
    "dfh1 = data[['waterfront', 'price']].groupby( 'waterfront' ).mean().reset_index()\n",
    "(dfh1.iloc[1,1] - dfh1.iloc[0,1]) / dfh1.iloc[0,1] * 100\n",
    "\n",
    "sns.barplot( data=dfh1, x='waterfront', y='price' );"
   ]
  },
  {
   "cell_type": "code",
   "execution_count": 11,
   "id": "a131a14d",
   "metadata": {},
   "outputs": [
    {
     "data": {
      "image/png": "[encoded data removed]",
      "text/plain": [
       "<Figure size 1080x432 with 1 Axes>"
      ]
     },
     "metadata": {},
     "output_type": "display_data"
    }
   ],
   "source": [
    "# H2: A avaliação dos imóveis construídos nas últimas três décadas encontra-se em média cerca de 19% acima da avaliação dos imóveis\n",
    "# construídos entre 1900 e 1959, enquanto que há um crescimento médio de 4,7% por década entre as décadas de 1940 e 1990.\n",
    "dfh2 = data.copy()\n",
    "dfh2['decade_built'] = dfh2['yr_built'].apply( lambda x: int((x / 10))  * 10)\n",
    "dfh2[['decade_built', 'grade']].groupby( 'decade_built' ).mean().reset_index()\n",
    "sns.barplot( data=dfh2, x='decade_built', y='grade' );"
   ]
  },
  {
   "cell_type": "code",
   "execution_count": 12,
   "id": "a6d8412d",
   "metadata": {},
   "outputs": [
    {
     "data": {
      "image/png": "[encoded data removed]",
      "text/plain": [
       "<Figure size 1080x432 with 1 Axes>"
      ]
     },
     "metadata": {},
     "output_type": "display_data"
    }
   ],
   "source": [
    "# H3: Para os imóveis construídos após a década de 1960, a condição diminui em média cerca de 4% por década.\n",
    "dfh3 = data.copy()\n",
    "dfh3['decade_built'] = dfh3['yr_built'].apply( lambda x: int((x / 10))  * 10)\n",
    "dfh3[['decade_built', 'condition']].groupby( 'decade_built' ).mean().reset_index()\n",
    "sns.barplot( data=dfh3, x='decade_built', y='condition' );"
   ]
  },
  {
   "cell_type": "code",
   "execution_count": 13,
   "id": "e22cc3aa",
   "metadata": {},
   "outputs": [
    {
     "data": {
      "image/png": "[encoded data removed]",
      "text/plain": [
       "<Figure size 1080x432 with 1 Axes>"
      ]
     },
     "metadata": {},
     "output_type": "display_data"
    }
   ],
   "source": [
    "# H4: Para imóveis que possuem entre 1 e 8 quartos, o preço aumenta em média cerca de 20% conforme aumenta-se a quantidade de quartos.\n",
    "dfh4 = data.loc[( data['bedrooms'] > 0 ) & ( data['bedrooms'] <= 11 ),\n",
    "                      ['price', 'bedrooms']].groupby( 'bedrooms' ).mean().reset_index()\n",
    "\n",
    "sns.barplot( x='bedrooms', y='price', data=dfh4 );"
   ]
  },
  {
   "cell_type": "markdown",
   "id": "7afdc44d",
   "metadata": {},
   "source": [
    "# 3.2 Buy Recommendation\n",
    "    Quais são os imóveis que a House Rocket deveria comprar e por qual preço?"
   ]
  },
  {
   "cell_type": "code",
   "execution_count": 14,
   "id": "8766ad87",
   "metadata": {},
   "outputs": [],
   "source": [
    "# Median per filters (waterfront, zipcode and grade)\n",
    "df1 = data[['id', 'date', 'price', 'zipcode', 'grade', 'waterfront', 'condition']]\n",
    "df2 = df1.copy()\n",
    "df2['price_median'] = 0.0\n",
    "\n",
    "for h in df2['waterfront'].unique():\n",
    "    for i in df2['zipcode'].unique():\n",
    "        df4 = df2.loc[(df2['waterfront'] == h) & (df2['zipcode'] == i), ['price', 'grade']].groupby( 'grade' ).median().reset_index()\n",
    "        for j in df4['grade']:\n",
    "            df2.loc[( df2['waterfront'] == h ) & ( df2['zipcode'] == i ) & ( df2['grade'] == j ), 'price_median'] = float( df4.loc[df4['grade'] == j, 'price'] )"
   ]
  },
  {
   "cell_type": "code",
   "execution_count": 15,
   "id": "f0989309",
   "metadata": {},
   "outputs": [],
   "source": [
    "# Classifies the properties\n",
    "df3 = df2.copy()\n",
    "df3['status'] = 'NA'\n",
    "\n",
    "for i in range( len( df3 ) ):\n",
    "    if ( df3.loc[i, 'condition'] == 5 ) & ( df3.loc[i, 'price'] < df3.loc[i, 'price_median'] ):\n",
    "        df3.loc[i, 'status'] = '1 compra A'\n",
    "    elif ( df3.loc[i, 'condition'] == 4 ) & ( df3.loc[i, 'price'] < df3.loc[i, 'price_median'] ):\n",
    "        df3.loc[i, 'status'] = '2 compra B'\n",
    "    elif ( df3.loc[i, 'condition'] == 3 ) & ( df3.loc[i, 'price'] < df3.loc[i, 'price_median'] ):\n",
    "        df3.loc[i, 'status'] = '3 neutro'\n",
    "    else:\n",
    "        df3.loc[i, 'status'] = '4 nao compra'"
   ]
  },
  {
   "cell_type": "code",
   "execution_count": 16,
   "id": "582952ee",
   "metadata": {},
   "outputs": [],
   "source": [
    "# Upside\n",
    "df3['upside'] = ( df3['price_median'] - df3['price'] ) / df3['price_median'] * 100"
   ]
  },
  {
   "cell_type": "code",
   "execution_count": 17,
   "id": "9132ef5d",
   "metadata": {},
   "outputs": [
    {
     "data": {
      "text/html": [
       "<div>\n",
       "<style scoped>\n",
       "    .dataframe tbody tr th:only-of-type {\n",
       "        vertical-align: middle;\n",
       "    }\n",
       "\n",
       "    .dataframe tbody tr th {\n",
       "        vertical-align: top;\n",
       "    }\n",
       "\n",
       "    .dataframe thead th {\n",
       "        text-align: right;\n",
       "    }\n",
       "</style>\n",
       "<table border=\"1\" class=\"dataframe\">\n",
       "  <thead>\n",
       "    <tr style=\"text-align: right;\">\n",
       "      <th></th>\n",
       "      <th>id</th>\n",
       "      <th>price</th>\n",
       "      <th>zipcode</th>\n",
       "      <th>grade</th>\n",
       "      <th>waterfront</th>\n",
       "      <th>condition</th>\n",
       "      <th>price_median</th>\n",
       "      <th>status</th>\n",
       "      <th>upside</th>\n",
       "    </tr>\n",
       "  </thead>\n",
       "  <tbody>\n",
       "    <tr>\n",
       "      <th>17197</th>\n",
       "      <td>5111400086</td>\n",
       "      <td>110000.00</td>\n",
       "      <td>98038</td>\n",
       "      <td>6</td>\n",
       "      <td>0</td>\n",
       "      <td>5</td>\n",
       "      <td>222000.00</td>\n",
       "      <td>1 compra A</td>\n",
       "      <td>50.45</td>\n",
       "    </tr>\n",
       "    <tr>\n",
       "      <th>4134</th>\n",
       "      <td>7129302615</td>\n",
       "      <td>292000.00</td>\n",
       "      <td>98118</td>\n",
       "      <td>8</td>\n",
       "      <td>0</td>\n",
       "      <td>5</td>\n",
       "      <td>579000.00</td>\n",
       "      <td>1 compra A</td>\n",
       "      <td>49.57</td>\n",
       "    </tr>\n",
       "    <tr>\n",
       "      <th>2026</th>\n",
       "      <td>5347200160</td>\n",
       "      <td>235000.00</td>\n",
       "      <td>98126</td>\n",
       "      <td>7</td>\n",
       "      <td>0</td>\n",
       "      <td>5</td>\n",
       "      <td>420000.00</td>\n",
       "      <td>1 compra A</td>\n",
       "      <td>44.05</td>\n",
       "    </tr>\n",
       "    <tr>\n",
       "      <th>14241</th>\n",
       "      <td>1922059010</td>\n",
       "      <td>140000.00</td>\n",
       "      <td>98030</td>\n",
       "      <td>6</td>\n",
       "      <td>0</td>\n",
       "      <td>5</td>\n",
       "      <td>248000.00</td>\n",
       "      <td>1 compra A</td>\n",
       "      <td>43.55</td>\n",
       "    </tr>\n",
       "    <tr>\n",
       "      <th>10969</th>\n",
       "      <td>3271300955</td>\n",
       "      <td>554729.00</td>\n",
       "      <td>98199</td>\n",
       "      <td>9</td>\n",
       "      <td>0</td>\n",
       "      <td>5</td>\n",
       "      <td>960000.00</td>\n",
       "      <td>1 compra A</td>\n",
       "      <td>42.22</td>\n",
       "    </tr>\n",
       "  </tbody>\n",
       "</table>\n",
       "</div>"
      ],
      "text/plain": [
       "               id     price  zipcode  grade  waterfront  condition  price_median      status  upside\n",
       "17197  5111400086 110000.00    98038      6           0          5     222000.00  1 compra A   50.45\n",
       "4134   7129302615 292000.00    98118      8           0          5     579000.00  1 compra A   49.57\n",
       "2026   5347200160 235000.00    98126      7           0          5     420000.00  1 compra A   44.05\n",
       "14241  1922059010 140000.00    98030      6           0          5     248000.00  1 compra A   43.55\n",
       "10969  3271300955 554729.00    98199      9           0          5     960000.00  1 compra A   42.22"
      ]
     },
     "execution_count": 17,
     "metadata": {},
     "output_type": "execute_result"
    }
   ],
   "source": [
    "df4 = df3[['id', 'price', 'zipcode', 'grade', 'waterfront', 'condition', 'price_median', 'status', 'upside']]\n",
    "df4.sort_values( ['status', 'upside'], ascending=[True, False] ).head()"
   ]
  },
  {
   "cell_type": "code",
   "execution_count": 18,
   "id": "d26c90df",
   "metadata": {},
   "outputs": [
    {
     "data": {
      "text/html": [
       "<div>\n",
       "<style scoped>\n",
       "    .dataframe tbody tr th:only-of-type {\n",
       "        vertical-align: middle;\n",
       "    }\n",
       "\n",
       "    .dataframe tbody tr th {\n",
       "        vertical-align: top;\n",
       "    }\n",
       "\n",
       "    .dataframe thead th {\n",
       "        text-align: right;\n",
       "    }\n",
       "</style>\n",
       "<table border=\"1\" class=\"dataframe\">\n",
       "  <thead>\n",
       "    <tr style=\"text-align: right;\">\n",
       "      <th></th>\n",
       "      <th>status</th>\n",
       "      <th>id</th>\n",
       "    </tr>\n",
       "  </thead>\n",
       "  <tbody>\n",
       "    <tr>\n",
       "      <th>0</th>\n",
       "      <td>1 compra A</td>\n",
       "      <td>468</td>\n",
       "    </tr>\n",
       "    <tr>\n",
       "      <th>1</th>\n",
       "      <td>2 compra B</td>\n",
       "      <td>2562</td>\n",
       "    </tr>\n",
       "    <tr>\n",
       "      <th>2</th>\n",
       "      <td>3 neutro</td>\n",
       "      <td>7420</td>\n",
       "    </tr>\n",
       "    <tr>\n",
       "      <th>3</th>\n",
       "      <td>4 nao compra</td>\n",
       "      <td>11163</td>\n",
       "    </tr>\n",
       "  </tbody>\n",
       "</table>\n",
       "</div>"
      ],
      "text/plain": [
       "         status     id\n",
       "0    1 compra A    468\n",
       "1    2 compra B   2562\n",
       "2      3 neutro   7420\n",
       "3  4 nao compra  11163"
      ]
     },
     "execution_count": 18,
     "metadata": {},
     "output_type": "execute_result"
    }
   ],
   "source": [
    "df4[['id', 'status']].groupby( 'status' ).count().reset_index()"
   ]
  },
  {
   "cell_type": "markdown",
   "id": "42da9303",
   "metadata": {},
   "source": [
    "# 3.3 Sell Recommendation\n",
    "    Uma vez comprados os imóveis, qual o melhor momento para vendê-los e por qual preço?"
   ]
  },
  {
   "cell_type": "code",
   "execution_count": 19,
   "id": "895ea3a9",
   "metadata": {},
   "outputs": [],
   "source": [
    "# Median per season\n",
    "df4 = df3.copy()\n",
    "\n",
    "df4['month'] = pd.to_datetime( data['date'] ).dt.strftime( '%m' )\n",
    "df4['month'] = df4['month'].astype('int64')\n",
    "df4['season'] = df4['month'].apply( lambda x:\n",
    "                                   'primavera' if ( x >= 3 ) & ( x <= 5 ) else\n",
    "                                   'verao' if ( x >= 6 ) & ( x <= 8 ) else\n",
    "                                   'outono' if ( x >= 9 ) & ( x <= 11 ) else 'inverno')\n",
    "df4['season_variation'] = df4['season'].apply( lambda x: 6.429 if x == 'inverno' else 4.098 if x == 'outono' else\n",
    "                                                          0.000 if x == 'primavera' else 1.065 )"
   ]
  },
  {
   "cell_type": "code",
   "execution_count": 20,
   "id": "09c0f400",
   "metadata": {},
   "outputs": [],
   "source": [
    "# New upside and profit\n",
    "df5 = df4.loc[( df4['status'] != '3 neutro' ) & ( df4['status'] != '4 nao compra' ),\n",
    "          ['id', 'season', 'status', 'price', 'price_median', 'upside', 'season_variation']]\n",
    "\n",
    "df5['price_median'] = df5['price_median'] * ( 1 + ( df5['season_variation'] / 100 ) )\n",
    "df5['upside'] = ( df5['price_median'] - df5['price'] ) / df5['price_median'] * 100\n",
    "df5['profit'] = df5['price_median'] * df5['upside'] / 100\n",
    "df6 = df5[['id', 'season', 'status', 'price', 'price_median', 'upside', 'profit']]\n",
    "df6 = df6.rename(columns={\"price\": \"price_buy\", \"price_median\":\"price_sell\"})"
   ]
  },
  {
   "cell_type": "code",
   "execution_count": 21,
   "id": "c0ac1d44",
   "metadata": {},
   "outputs": [
    {
     "data": {
      "text/html": [
       "<div>\n",
       "<style scoped>\n",
       "    .dataframe tbody tr th:only-of-type {\n",
       "        vertical-align: middle;\n",
       "    }\n",
       "\n",
       "    .dataframe tbody tr th {\n",
       "        vertical-align: top;\n",
       "    }\n",
       "\n",
       "    .dataframe thead th {\n",
       "        text-align: right;\n",
       "    }\n",
       "</style>\n",
       "<table border=\"1\" class=\"dataframe\">\n",
       "  <thead>\n",
       "    <tr style=\"text-align: right;\">\n",
       "      <th></th>\n",
       "      <th>id</th>\n",
       "      <th>season</th>\n",
       "      <th>status</th>\n",
       "      <th>price_buy</th>\n",
       "      <th>price_sell</th>\n",
       "      <th>upside</th>\n",
       "      <th>profit</th>\n",
       "    </tr>\n",
       "  </thead>\n",
       "  <tbody>\n",
       "    <tr>\n",
       "      <th>17197</th>\n",
       "      <td>5111400086</td>\n",
       "      <td>primavera</td>\n",
       "      <td>1 compra A</td>\n",
       "      <td>110000.00</td>\n",
       "      <td>222000.00</td>\n",
       "      <td>50.45</td>\n",
       "      <td>112000.00</td>\n",
       "    </tr>\n",
       "    <tr>\n",
       "      <th>4134</th>\n",
       "      <td>7129302615</td>\n",
       "      <td>primavera</td>\n",
       "      <td>1 compra A</td>\n",
       "      <td>292000.00</td>\n",
       "      <td>579000.00</td>\n",
       "      <td>49.57</td>\n",
       "      <td>287000.00</td>\n",
       "    </tr>\n",
       "    <tr>\n",
       "      <th>14241</th>\n",
       "      <td>1922059010</td>\n",
       "      <td>inverno</td>\n",
       "      <td>1 compra A</td>\n",
       "      <td>140000.00</td>\n",
       "      <td>263943.92</td>\n",
       "      <td>46.96</td>\n",
       "      <td>123943.92</td>\n",
       "    </tr>\n",
       "    <tr>\n",
       "      <th>2026</th>\n",
       "      <td>5347200160</td>\n",
       "      <td>primavera</td>\n",
       "      <td>1 compra A</td>\n",
       "      <td>235000.00</td>\n",
       "      <td>420000.00</td>\n",
       "      <td>44.05</td>\n",
       "      <td>185000.00</td>\n",
       "    </tr>\n",
       "    <tr>\n",
       "      <th>17128</th>\n",
       "      <td>4337600005</td>\n",
       "      <td>inverno</td>\n",
       "      <td>1 compra A</td>\n",
       "      <td>153000.00</td>\n",
       "      <td>271393.95</td>\n",
       "      <td>43.62</td>\n",
       "      <td>118393.95</td>\n",
       "    </tr>\n",
       "  </tbody>\n",
       "</table>\n",
       "</div>"
      ],
      "text/plain": [
       "               id     season      status  price_buy  price_sell  upside    profit\n",
       "17197  5111400086  primavera  1 compra A  110000.00   222000.00   50.45 112000.00\n",
       "4134   7129302615  primavera  1 compra A  292000.00   579000.00   49.57 287000.00\n",
       "14241  1922059010    inverno  1 compra A  140000.00   263943.92   46.96 123943.92\n",
       "2026   5347200160  primavera  1 compra A  235000.00   420000.00   44.05 185000.00\n",
       "17128  4337600005    inverno  1 compra A  153000.00   271393.95   43.62 118393.95"
      ]
     },
     "execution_count": 21,
     "metadata": {},
     "output_type": "execute_result"
    }
   ],
   "source": [
    "df6.sort_values( ['status', 'upside'], ascending=[True, False] ).head()"
   ]
  },
  {
   "cell_type": "code",
   "execution_count": 22,
   "id": "bca315f9",
   "metadata": {},
   "outputs": [
    {
     "data": {
      "text/html": [
       "<div>\n",
       "<style scoped>\n",
       "    .dataframe tbody tr th:only-of-type {\n",
       "        vertical-align: middle;\n",
       "    }\n",
       "\n",
       "    .dataframe tbody tr th {\n",
       "        vertical-align: top;\n",
       "    }\n",
       "\n",
       "    .dataframe thead th {\n",
       "        text-align: right;\n",
       "    }\n",
       "</style>\n",
       "<table border=\"1\" class=\"dataframe\">\n",
       "  <thead>\n",
       "    <tr style=\"text-align: right;\">\n",
       "      <th></th>\n",
       "      <th>status</th>\n",
       "      <th>upside</th>\n",
       "      <th>profit</th>\n",
       "      <th>id</th>\n",
       "    </tr>\n",
       "  </thead>\n",
       "  <tbody>\n",
       "    <tr>\n",
       "      <th>0</th>\n",
       "      <td>1 compra A</td>\n",
       "      <td>14.16</td>\n",
       "      <td>72943.52</td>\n",
       "      <td>468</td>\n",
       "    </tr>\n",
       "    <tr>\n",
       "      <th>1</th>\n",
       "      <td>2 compra B</td>\n",
       "      <td>15.58</td>\n",
       "      <td>77234.78</td>\n",
       "      <td>2562</td>\n",
       "    </tr>\n",
       "  </tbody>\n",
       "</table>\n",
       "</div>"
      ],
      "text/plain": [
       "       status  upside   profit    id\n",
       "0  1 compra A   14.16 72943.52   468\n",
       "1  2 compra B   15.58 77234.78  2562"
      ]
     },
     "execution_count": 22,
     "metadata": {},
     "output_type": "execute_result"
    }
   ],
   "source": [
    "# 01 Geral\n",
    "df_group1 = df6[['upside', 'status']].groupby( 'status' ).mean().reset_index()\n",
    "df_group2 = df6[['profit', 'status']].groupby( 'status' ).mean().reset_index()\n",
    "df_group3 = df6[['id', 'status']].groupby( 'status' ).count().reset_index()\n",
    "df7 = pd.merge( df_group1, df_group2, on='status', how='inner' )\n",
    "df7 = pd.merge( df7, df_group3, on='status', how='inner' )\n",
    "df7"
   ]
  },
  {
   "cell_type": "code",
   "execution_count": 23,
   "id": "c9ea57ff",
   "metadata": {},
   "outputs": [
    {
     "data": {
      "text/plain": [
       "29.26424223456809"
      ]
     },
     "execution_count": 23,
     "metadata": {},
     "output_type": "execute_result"
    }
   ],
   "source": [
    "# 02 Primeira situação\n",
    "df8 = df6.loc[df6['status'] == '1 compra A', ['price_buy', 'price_sell', 'profit', 'upside']].sort_values( 'upside', ascending=False ).head(100).reset_index()\n",
    "df8['price_buy'].sum()\n",
    "df8['price_sell'].sum()\n",
    "df8['profit'].sum()\n",
    "df8['profit'].mean()\n",
    "df8['upside'].mean()"
   ]
  },
  {
   "cell_type": "code",
   "execution_count": 24,
   "id": "c31ed3de",
   "metadata": {},
   "outputs": [
    {
     "data": {
      "text/plain": [
       "43.19133829191259"
      ]
     },
     "execution_count": 24,
     "metadata": {},
     "output_type": "execute_result"
    }
   ],
   "source": [
    "# 03 Segunda situação\n",
    "df8 = df6.loc[df6['status'] == '2 compra B', ['price_buy', 'price_sell', 'profit', 'upside']].sort_values( 'upside', ascending=False ).head(100).reset_index()\n",
    "df8['price_buy'].sum()\n",
    "df8['price_sell'].sum()\n",
    "df8['profit'].sum()\n",
    "df8['profit'].mean()\n",
    "df8['upside'].mean()"
   ]
  },
  {
   "cell_type": "code",
   "execution_count": 25,
   "id": "5765c80d",
   "metadata": {},
   "outputs": [
    {
     "data": {
      "text/plain": [
       "43.899681853155755"
      ]
     },
     "execution_count": 25,
     "metadata": {},
     "output_type": "execute_result"
    }
   ],
   "source": [
    "# 04 Terceira situação\n",
    "df8 = df6[['price_buy', 'price_sell', 'profit', 'upside']].sort_values( 'upside', ascending=False ).head(100).reset_index()\n",
    "df8['price_buy'].sum()\n",
    "df8['price_sell'].sum()\n",
    "df8['profit'].sum()\n",
    "df8['profit'].mean()\n",
    "df8['upside'].mean()"
   ]
  },
  {
   "cell_type": "code",
   "execution_count": 26,
   "id": "b6e2b755",
   "metadata": {},
   "outputs": [
    {
     "data": {
      "text/plain": [
       "41.028100604016366"
      ]
     },
     "execution_count": 26,
     "metadata": {},
     "output_type": "execute_result"
    }
   ],
   "source": [
    "# 05 Quarta situação\n",
    "df8 = df6.loc[df6['status'] == '1 compra A', ['price_buy', 'price_sell', 'profit', 'upside']].sort_values( 'upside', ascending=False ).head(50).reset_index()\n",
    "df9 = df6.loc[df6['status'] == '2 compra B', ['price_buy', 'price_sell', 'profit', 'upside']].sort_values( 'upside', ascending=False ).head(50).reset_index()\n",
    "df10 = pd.concat([df8, df9], axis=0)\n",
    "df10['price_buy'].sum()\n",
    "df10['price_sell'].sum()\n",
    "df10['profit'].sum()\n",
    "df10['profit'].mean()\n",
    "df10['upside'].mean()"
   ]
  }
 ],
 "metadata": {
  "kernelspec": {
   "display_name": "Python 3 (ipykernel)",
   "language": "python",
   "name": "python3"
  },
  "language_info": {
   "codemirror_mode": {
    "name": "ipython",
    "version": 3
   },
   "file_extension": ".py",
   "mimetype": "text/x-python",
   "name": "python",
   "nbconvert_exporter": "python",
   "pygments_lexer": "ipython3",
   "version": "3.9.12"
  }
 },
 "nbformat": 4,
 "nbformat_minor": 5
}
